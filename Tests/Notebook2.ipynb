{
 "cells": [
  {
   "cell_type": "markdown",
   "metadata": {},
   "source": [
    "# Notebook 2: Entrada i sortida a Python & Computació Numèrica."
   ]
  },
  {
   "cell_type": "markdown",
   "metadata": {},
   "source": [
    "<div class=\"alert alert-error\"><strong><center>Aquesta pràctica és avaluable.</center></strong> \n",
    "<p>L'has de lliurar amb UN ÚNIC FITXER (Notebook2.ipynb),amb el  Notebook COMPLETAT AMB EL CONJUNT DE FUNCIONS QUE S’HAN D'IMPLEMENTAR a les cel·les que s'indica, i l'execució dels tests inclosos en l'enunciat.</p> \n",
    "<p>ATENCIÓ: No es poden usar funcions de Python implementades en llibreries externes que resolguin el *quid* de l'exercici.</p></div>"
   ]
  },
  {
   "cell_type": "markdown",
   "metadata": {},
   "source": [
    "## Entrada i sortida\n",
    "\n",
    "Per demanar dades a l'usuari a Python usem les funcions input i raw_input. A Python 2.0 raw_input (entrada \"en cru\" o \"en brut\") no interpreta l'entrada i ens la serveix com una cadena de caràcters, i serà la funció que usarem quan demanem dades textuals. En canvi input interpreta l'entrada i ja la processa, l'usarem per demanar valors numèrics o per entrades múltiples, si volem introduir text amb input ens cal posar-lo entre cometes. Quan volem forçar que la resposta sigui d'un tipus determinat ens caldrà \"convertir\" la resposta al tipus desitjat.\n",
    "\n",
    "Per altra banda, Python ens ofereix moltes possibilitats a l'hora de mostrar la sortida, al Notebook1 ja vam veure print amb *+* o amb *,* aquí veurem les possibilitats de format dels resultats.\n",
    "\n",
    "I finalment en alguns programes, en comptes de demanar les dades a l'usuari el què farem és introduir-les \"per paràmetre\", és a dir, donarem les dades al programa quan el cridem. Per exemple, per sumar dos números amb un programa \"suma\" faríem: suma(3,4)"
   ]
  },
  {
   "cell_type": "markdown",
   "metadata": {},
   "source": [
    "## Exercici 0\n",
    "\n",
    "+ Observa el següent codi i fes els canvis que s'indiquen en una nova casella de codi Python creada per tu. Per saber com funciona la impressió de valors dintre de cadenes de caràcters, pots consultar la <a href=\"https://docs.python.org/2/library/stdtypes.html#string-formatting-operations\" title=\"string-formatting-operations\">documentació de Python</a>."
   ]
  },
  {
   "cell_type": "code",
   "execution_count": 4,
   "metadata": {
    "collapsed": false
   },
   "outputs": [
    {
     "name": "stdout",
     "output_type": "stream",
     "text": [
      "Digues-me un joc de mobil que t'agradi ds\n",
      "Digues-me per quin nivell vas 114\n",
      "Es una aplicacio Android (respon True o False)True\n",
      "La teva app s'anomena: ds, vas pel nivell 114, i és una aplicació Android True\n"
     ]
    }
   ],
   "source": [
    "def provaentrada():\n",
    "    app = raw_input(\"Digues-me un joc de mobil que t'agradi \")\n",
    "    nivell = input(\"Digues-me per quin nivell vas \")\n",
    "    android = bool(input(\"Es una aplicacio Android (respon True o False)\"))\n",
    "    print \"La teva app s'anomena: %s, vas pel nivell %i, i és una aplicació Android %r\" %(app, nivell, android)\n",
    "    #Canvia les preguntes per tal de demanar les dades de dues apps simultàniament\n",
    "    #Demana també una puntuació per les apps entre 0 i 1 amb decimals (per ex. 0.3,0.5,0.7)\n",
    "    #Canvia el resultat segons els canvis anteriors (per mostrar el float pots usar %2.1f)\n",
    "\n",
    "\n",
    "provaentrada()"
   ]
  },
  {
   "cell_type": "code",
   "execution_count": 2,
   "metadata": {
    "collapsed": false
   },
   "outputs": [
    {
     "name": "stdout",
     "output_type": "stream",
     "text": [
      "Digues una app de mobil que t'agradi ClashofClans\n",
      "Valora la app amb una puntacio 0.5675\n",
      "Digues una altre app de mobil que t'agradi ClashRoyale\n",
      "Valorala amb una puntacio 0.9832\n",
      "Les teves apps de mobil que mes t'agraden son: \n",
      "ClashRoyale amb una puntuacio de 1.0\n",
      "ClashofClans amb una puntuacio de 0.6\n"
     ]
    }
   ],
   "source": [
    "def segona():\n",
    "    apps = raw_input(\"Digues una altre app de mobil que t'agradi \")\n",
    "    valor2 = input(\"Valorala amb una puntacio \")\n",
    "    while valor2 > 1:\n",
    "        print(\"Error: Introdueix un numero entre 0 i 1\")\n",
    "        valor2 = input(\"Valora la app amb una puntacio \")\n",
    "    while valor2 < 0:\n",
    "        print(\"Error: Introdueix un numero entre 0 i 1\")\n",
    "        valor2 = input(\"Valora la app amb una puntacio \")\n",
    "        \n",
    "    print(\"Les teves apps de mobil que mes t'agraden son: \")\n",
    "    print(\"%s amb una puntuacio de %0.1f\") %(apps, valor2)\n",
    "        \n",
    "def primera():\n",
    "        app = raw_input(\"Digues una app de mobil que t'agradi \")\n",
    "        valor = input(\"Valora la app amb una puntacio \")\n",
    "        while valor > 1:\n",
    "            print(\"Error: Introdueix un numero entre 0 i 1\")\n",
    "            valor = input(\"Valora la app amb una puntacio \")\n",
    "        while valor < 0:\n",
    "            print(\"Error: Introdueix un numero entre 0 i 1\")\n",
    "            valor = input(\"Valora la app amb una puntacio \")\n",
    "            \n",
    "        segona()\n",
    "                        \n",
    "        print(\"%s amb una puntuacio de %0.1f\") %(app, valor)\n",
    "        \n",
    "primera()\n",
    "           \n",
    "    "
   ]
  },
  {
   "cell_type": "markdown",
   "metadata": {},
   "source": [
    "## Funcions numèriques\n",
    "La funció ``futval`` calcula els diners que tindrem en un compte del banc al cap de 10 anys en funció de la inversió inicial i de l'interès que ens dóna el banc: "
   ]
  },
  {
   "cell_type": "code",
   "execution_count": 5,
   "metadata": {
    "collapsed": false
   },
   "outputs": [
    {
     "name": "stdout",
     "output_type": "stream",
     "text": [
      "Calcul del valor futur d’una inversio a 10 anys.\n",
      "Entra la inversio inicial: 5\n",
      "Entra l'interes anual en decimal (per ex. 10% sera 0.1): 0.6\n",
      "La quantitat al cap de 10 anys es: 549.755813888\n"
     ]
    }
   ],
   "source": [
    "def futval():\n",
    "    print \"Calcul del valor futur d’una inversio a 10 anys.\"\n",
    "    principal = input(\"Entra la inversio inicial: \")\n",
    "    apr = input(\"Entra l'interes anual en decimal (per ex. 10% sera 0.1): \")\n",
    "    for i in range(10):\n",
    "        principal = principal * (1 + apr)\n",
    "    print \"La quantitat al cap de 10 anys es:\", principal\n",
    "    \n",
    "futval()"
   ]
  },
  {
   "cell_type": "markdown",
   "metadata": {},
   "source": [
    "## Exercici 1\n",
    "\n",
    "+ Escriu, a partir de ``futval1``, una funció ``futval2`` amb alguns canvis. En aquest cas el banc cobrarà una comissió d'un percentatge de l'import final. L'usuari ha d'introduir la inversió inicial, l'interès, el nombre d'anys i també la comissió del banc (per ex. 3% serà 0.3). Canvia el missatge final adequadament."
   ]
  },
  {
   "cell_type": "code",
   "execution_count": 88,
   "metadata": {
    "collapsed": false
   },
   "outputs": [
    {
     "name": "stdout",
     "output_type": "stream",
     "text": [
      "Calcul dels diners d'un compte d'una inversio en X anys.\n",
      "Introdueix la inversio inicial: 100\n",
      "Introdueix l'interes anual en decimal (per ex. 10% sera 0.1): 0.25\n",
      "Introdueix el nombre d'anys: 2\n",
      "Introdueix la comisio bancaria en decimal (per ex. 30% sera 0.3): 0.1\n",
      "La quantitat de diners al cap de 2 anys sera de: 126.5625 EUR.\n"
     ]
    }
   ],
   "source": [
    "#Substiteix la comanda pass per la teva solució\n",
    "\n",
    "def futval2():\n",
    "    print \"Calcul dels diners d'un compte d'una inversio en X anys.\"\n",
    "    inversio = input(\"Introdueix la inversio inicial: \")\n",
    "    interes = input(\"Introdueix l'interes anual en decimal (per ex. 10% sera 0.1): \")\n",
    "    anys = input(\"Introdueix el nombre d'anys: \")\n",
    "    comissio = input(\"Introdueix la comisio bancaria en decimal (per ex. 30% sera 0.3): \")\n",
    "    for i in range(anys):\n",
    "        inversio = inversio * (1 + interes)* (1 - comissio)\n",
    "    print \"La quantitat de diners al cap de\", anys, \"anys sera de:\", inversio, \"EUR.\"\n",
    "    \n",
    "futval2()\n"
   ]
  },
  {
   "cell_type": "code",
   "execution_count": 16,
   "metadata": {
    "collapsed": false
   },
   "outputs": [
    {
     "name": "stdout",
     "output_type": "stream",
     "text": [
      "Calcul dels diners d'un compte d'una inversio en X anys.\n",
      "Introdueix la inversio inicial: 100\n",
      "Introdueix l'interes anual en decimal (per ex. 10% sera 0.1): 0.25\n",
      "Introdueix el nombre d'anys: 1\n",
      "Introdueix la comisio bancaria en decimal (per ex. 30% sera 0.3): 0.1\n",
      "La quantitat de diners al cap de 1 anys sera de: 112.5 EUR.\n"
     ]
    }
   ],
   "source": [
    "# Test de la funció\n",
    "futval2()\n"
   ]
  },
  {
   "cell_type": "markdown",
   "metadata": {},
   "source": [
    "La funció ``convert`` converteix els graus Celsius en graus Fahrenheit:"
   ]
  },
  {
   "cell_type": "code",
   "execution_count": 60,
   "metadata": {
    "collapsed": false
   },
   "outputs": [],
   "source": [
    "def convert():\n",
    "    celsius = input(\"What is the Celsius temperature? \")\n",
    "    fahrenheit = 9.0 / 5.0 * celsius + 32\n",
    "    print \"The temperature is\", fahrenheit, \"degrees Fahrenheit.\""
   ]
  },
  {
   "cell_type": "markdown",
   "metadata": {},
   "source": [
    "## Exercici 2\n",
    "\n",
    "+ Modifica la funció i escriu una funció ``convert2`` de manera que calculi i imprimeixi una llista de temperatures Celsius i dels seus equivalents Fahrenheit cada 5 graus de 0C a 50C. "
   ]
  },
  {
   "cell_type": "code",
   "execution_count": 55,
   "metadata": {
    "collapsed": false
   },
   "outputs": [
    {
     "name": "stdout",
     "output_type": "stream",
     "text": [
      "Celsius - Fahrenheit\n",
      "0       -     32.0\n",
      "5       -     41.0\n",
      "10      -     50.0\n",
      "15      -     59.0\n",
      "20      -     68.0\n",
      "25      -     77.0\n",
      "30      -     86.0\n",
      "35      -     95.0\n",
      "40      -     104.0\n",
      "45      -     113.0\n",
      "50      -     122.0\n"
     ]
    }
   ],
   "source": [
    "# Substitueix la comanda pass per la teva solució\n",
    "\n",
    "def convert2():\n",
    "    print \"Celsius - Fahrenheit\"\n",
    "    for celsius in range (0,6,5):\n",
    "        Fahrenheit = 9.0 / 5.0 * celsius + 32\n",
    "        print celsius,\"      -    \",Fahrenheit\n",
    "    for celsius in range (10,51,5):\n",
    "        Fahrenheit = 9.0 / 5.0 * celsius + 32\n",
    "        print celsius,\"     -    \",Fahrenheit\n",
    "        \n",
    "convert2()"
   ]
  },
  {
   "cell_type": "code",
   "execution_count": 56,
   "metadata": {
    "collapsed": false
   },
   "outputs": [
    {
     "name": "stdout",
     "output_type": "stream",
     "text": [
      "Celsius - Fahrenheit\n",
      "0       -     32.0\n",
      "5       -     41.0\n",
      "10      -     50.0\n",
      "15      -     59.0\n",
      "20      -     68.0\n",
      "25      -     77.0\n",
      "30      -     86.0\n",
      "35      -     95.0\n",
      "40      -     104.0\n",
      "45      -     113.0\n",
      "50      -     122.0\n"
     ]
    }
   ],
   "source": [
    "# Test de la funció\n",
    "\n",
    "convert2()"
   ]
  },
  {
   "cell_type": "markdown",
   "metadata": {},
   "source": [
    "## Exercici 3\n",
    "\n",
    "+ Escriu una funció, exp, que calculi i imprimeixi el resultat de cada una d’aquestes expressions. Assegura't que el valor està en el tipus correcte.\n",
    "\n",
    "    - 4.0 / 6.0 + 3.5 * 3\n",
    "    - 10 % 3 + 6 / 5\n",
    "    - abs(1 - 16 / 4) ** 3\n",
    "    - sqrt(6.5 - 7.0) + 8 * 3\n",
    "    - 5/(3.2 + 1.6 - 4.8)\n",
    "    - 3 * 11 / 3 + 14 % 3\n",
    "    - 2L ** 3\n",
    "   \n",
    "+ Si hi ha alguna expressió que et dóna error en avaluar-la, explica perquè."
   ]
  },
  {
   "cell_type": "code",
   "execution_count": 84,
   "metadata": {
    "collapsed": false
   },
   "outputs": [
    {
     "name": "stdout",
     "output_type": "stream",
     "text": [
      "1-  11.1666666667\n",
      "2-  2\n",
      "3-  27\n",
      "4-  No es pot calcular [ math.sqrt(6.5 - 7.0) + 8 * 3 ] ERROR!\n",
      "5-  5.62949953421e+15\n",
      "6-  13\n",
      "7-  8\n"
     ]
    }
   ],
   "source": [
    "# Substitueix la comanda pass per la teva solució\n",
    "import math\n",
    "\n",
    "def exp():\n",
    "    print \"1- \", 4.0 / 6.0 + 3.5 * 3\n",
    "    print \"2- \", 10 % 3 + 6 / 5\n",
    "    print \"3- \", abs(1 - 16 / 4) ** 3\n",
    "    print \"4- \", \"No es pot calcular [ math.sqrt(6.5 - 7.0) + 8 * 3 ]\",\n",
    "    print \"ERROR!\"\n",
    "    # L'arrel quadrada d'un numero negatiu no es pot calcular ja que 6.5-7.0= -0.5\n",
    "    print \"5- \", 5/(3.2 + 1.6 - 4.8)\n",
    "    print \"6- \", 3 * 11 / 3 + 14 % 3\n",
    "    print \"7- \", 2L ** 3\n",
    "    \n",
    "exp()"
   ]
  },
  {
   "cell_type": "code",
   "execution_count": 65,
   "metadata": {
    "collapsed": false
   },
   "outputs": [
    {
     "name": "stdout",
     "output_type": "stream",
     "text": [
      "1-  11.1666666667\n"
     ]
    }
   ],
   "source": [
    "# Test de la funció\n",
    "\n",
    "exp()"
   ]
  },
  {
   "cell_type": "code",
   "execution_count": 83,
   "metadata": {
    "collapsed": false
   },
   "outputs": [
    {
     "name": "stdout",
     "output_type": "stream",
     "text": [
      "No es pot calcular la 4ª operacio degut a que no es pot calcular l'arrel quadrada d'un nombre negatiu l'expressio correcta per realitzar l'operacio seria: print math.sqrt(6.5 - 7.0) + 8 * 3  i com que 6.5 - 7.0= -0.5 [Nombre negatiu] Python no pot realitzar l'operacio i dona un error\n",
      "6,5 - 7.0 = -0.5\n"
     ]
    }
   ],
   "source": [
    "# Explica per què hi ha expressions que generen un error.\n",
    "print(\"No es pot calcular la 4ª operacio degut a que no es pot calcular l'arrel quadrada d'un nombre negatiu\"),\n",
    "print (\"l'expressio correcta per realitzar l'operacio seria: print math.sqrt(6.5 - 7.0) + 8 * 3 \"),\n",
    "print (\"i com que 6.5 - 7.0= -0.5 [Nombre negatiu] Python no pot realitzar l'operacio i dona un error\")\n",
    "print \"6,5 - 7.0 =\", \n",
    "print 6.5-7.0"
   ]
  },
  {
   "cell_type": "markdown",
   "metadata": {},
   "source": [
    "## Exercici 4\n",
    "\n",
    "+ Considera dos punts en un pla segons les seves coordenades $(x_1,y_1)$ i $(x_2,y_2)$. Escriu una funció, ``punts``, que calculi la pendent de la recta que passa per aquests dos punts. $m=(y_2-y_1)/(x_2-x_1)$. Fixa't que aquest cop les dades les introduim en cridar el programa, no les entra l'usuari."
   ]
  },
  {
   "cell_type": "code",
   "execution_count": 8,
   "metadata": {
    "collapsed": false
   },
   "outputs": [],
   "source": [
    "# Substitueix la comanda pass per la teva solució\n",
    "\n",
    "def pendent(x1,y1,x2,y2):\n",
    "    if (x2 - x1) == 0 :\n",
    "        print \"ERROR! x1 i x2 son iguals, no podem dividir entre 0\" \n",
    "    else: \n",
    "        print \"El pendent de la recta que pasa per\", \"(\",x1,\",\",y1,\") i (\",x2,\",\",y2,\") és: \",(y2-y1)/(x2-x1)\n",
    "    \n"
   ]
  },
  {
   "cell_type": "code",
   "execution_count": 9,
   "metadata": {
    "collapsed": false
   },
   "outputs": [
    {
     "name": "stdout",
     "output_type": "stream",
     "text": [
      "El pendent de la recta que pasa per ( 0 , 0 ) i ( 1 , 1 ) és:  1\n",
      "ERROR! x1 i x2 son iguals, no podem dividir entre 0\n"
     ]
    }
   ],
   "source": [
    "# Test de la funció \n",
    "pendent(0,0,1,1)\n",
    "pendent(1,3,1,5)"
   ]
  },
  {
   "cell_type": "markdown",
   "metadata": {},
   "source": [
    "## Exercici 5\n",
    "\n",
    "+ Escriu una funció, ``magnitude``, que accepti dos punts i calculi la magnitud del vector entre ells, $d= \\sqrt{(x_2-x_1)^2+(y_2-y_1)^2}$ "
   ]
  },
  {
   "cell_type": "code",
   "execution_count": 4,
   "metadata": {
    "collapsed": false
   },
   "outputs": [],
   "source": [
    "# Substitueix la comanda pass per la teva solució\n",
    "import math\n",
    "\n",
    "def magnitude(x1,y1,x2,y2):\n",
    "    d = math.sqrt(((x2-x1)**2 + (y2-y1)**2))\n",
    "    print \"La magnitud del vector entre els punts és de\",d, \"unitats.\""
   ]
  },
  {
   "cell_type": "code",
   "execution_count": 5,
   "metadata": {
    "collapsed": false
   },
   "outputs": [
    {
     "name": "stdout",
     "output_type": "stream",
     "text": [
      "La magnitud del vector entre els punts és de 1.83847763109 unitats.\n"
     ]
    }
   ],
   "source": [
    "# Test de la funció\n",
    "\n",
    "magnitude(0,0,1.3,1.3)"
   ]
  },
  {
   "cell_type": "markdown",
   "metadata": {},
   "source": [
    "## Exercici 6\n",
    "\n",
    "+ Escriu una funció, ``magnitude2``, que a partir de dos punts del pla calculi el nombre enter que més s’apropa a la distància euclidiana. Busca a la documentació de Python si hi ha alguna funció que et pugui resultar útil."
   ]
  },
  {
   "cell_type": "code",
   "execution_count": 54,
   "metadata": {
    "collapsed": false
   },
   "outputs": [],
   "source": [
    "# Substitueix la comanda pass per la teva solució\n",
    "import math\n",
    "\n",
    "def magnitude2(x1,y1,x2,y2):\n",
    "    d = math.sqrt(((x2-x1)**2)+((y2-y1)**2)) #Asignem una variable a la formula (resultat)\n",
    "    print \"La magnitud del vector entre els punts és de\",int(round(d)), \"unitats.\" \n",
    "    #Pasem el resultat decimal a un enter redondejat amb int(round(variable))"
   ]
  },
  {
   "cell_type": "code",
   "execution_count": 55,
   "metadata": {
    "collapsed": false
   },
   "outputs": [
    {
     "name": "stdout",
     "output_type": "stream",
     "text": [
      "La magnitud del vector entre els punts és de 8 unitats.\n"
     ]
    }
   ],
   "source": [
    "# Test de la funció\n",
    "\n",
    "magnitude2(0,3,8,4.5)"
   ]
  },
  {
   "cell_type": "markdown",
   "metadata": {},
   "source": [
    "Per les funcions següents necessitaràs la sentència ``if`` de Python. \n",
    "\n",
    "La sentència ``if`` executa un bloc de codi si es compleix una condició. Relacionat amb l'``if`` existeix l'``else``, que executa un bloc de codi si no es compleix una condició i l'``elif`` (contracció d'else-if en anglès: si no - si en català), que executa un bloc de codi si no es compleix una condició però si una altra. (Font: Viquipedia).\n",
    "Fixa't que quan usem blocs el contingut de dintre el bloc s'ha de posar quatre caràcters més a la dreta que l'inici del bloc, això s'anomena **indentació del codi** i és el mecanisme de Python per agrupar parts del codi."
   ]
  },
  {
   "cell_type": "code",
   "execution_count": 28,
   "metadata": {
    "collapsed": false
   },
   "outputs": [
    {
     "name": "stdout",
     "output_type": "stream",
     "text": [
      "x és un altre número\n"
     ]
    }
   ],
   "source": [
    "# Comparativa entre if, elif i else:\n",
    "x = 1\n",
    "if x == 0: # Si x és 0\n",
    "    print 'x és 0'\n",
    "elif x == 2: # Si x és 2\n",
    "    print 'x és 2'\n",
    "else: # Si x no és 0 ni 2\n",
    "    print 'x és un altre número'"
   ]
  },
  {
   "cell_type": "markdown",
   "metadata": {},
   "source": [
    "## Exercici 7\n",
    "\n",
    "+ Escriu una funció, ``factmenor``, que imprimeixi tots els valors menors que el nombre 999999999999999999999999 i que són factorials d’algun nombre natural."
   ]
  },
  {
   "cell_type": "code",
   "execution_count": 27,
   "metadata": {
    "collapsed": false
   },
   "outputs": [
    {
     "name": "stdout",
     "output_type": "stream",
     "text": [
      "El factorial de 1 és  1\n",
      "El factorial de 2 és  2\n",
      "El factorial de 3 és  6\n",
      "El factorial de 4 és  24\n",
      "El factorial de 5 és  120\n",
      "El factorial de 6 és  720\n",
      "El factorial de 7 és  5040\n",
      "El factorial de 8 és  40320\n",
      "El factorial de 9 és  362880\n",
      "El factorial de 10 és  3628800\n",
      "El factorial de 11 és  39916800\n",
      "El factorial de 12 és  479001600\n",
      "El factorial de 13 és  6227020800\n",
      "El factorial de 14 és  87178291200\n",
      "El factorial de 15 és  1307674368000\n",
      "El factorial de 16 és  20922789888000\n",
      "El factorial de 17 és  355687428096000\n",
      "El factorial de 18 és  6402373705728000\n",
      "El factorial de 19 és  121645100408832000\n",
      "El factorial de 20 és  2432902008176640000\n",
      "El factorial de 21 és  51090942171709440000\n",
      "El factorial de 22 és  1124000727777607680000\n",
      "El factorial de 23 és  25852016738884976640000\n",
      "El factorial de 24 és  620448401733239439360000\n",
      "El factorial de 25 és  15511210043330985984000000\n",
      "El factorial de 26 és més gran que 999999999999999999999999\n"
     ]
    }
   ],
   "source": [
    "# Substitueix la comanda pass per la teva solució\n",
    "\n",
    "def factmenor():\n",
    "    maxim = 999999999999999999999999 #Nombre màxim\n",
    "    x = 0 #Variable X = numero de factorial\n",
    "    y = 1 #Variable y = factorial\n",
    "    while y < 999999999999999999999999: #Bucle que s'executa mentre el valor de \"i\" és més petit que 999999999999999999999999\n",
    "        x = x + 1 #Sucessió n + 1 que permet anar pujant 1 valor\n",
    "        y = x * y # Calcul del factorial x * y\n",
    "        print \"El factorial de %i és \" %(x), y\n",
    "        if y > 999999999999999999999999: #Necessari per aturar el bucle\n",
    "            x += 1\n",
    "            print \"El factorial de %i és més gran que\" %(x),maxim\n",
    "        \n",
    "factmenor()\n",
    "    \n",
    "    "
   ]
  },
  {
   "cell_type": "code",
   "execution_count": 28,
   "metadata": {
    "collapsed": false
   },
   "outputs": [
    {
     "name": "stdout",
     "output_type": "stream",
     "text": [
      "El factorial de 1 és  1\n",
      "El factorial de 2 és  2\n",
      "El factorial de 3 és  6\n",
      "El factorial de 4 és  24\n",
      "El factorial de 5 és  120\n",
      "El factorial de 6 és  720\n",
      "El factorial de 7 és  5040\n",
      "El factorial de 8 és  40320\n",
      "El factorial de 9 és  362880\n",
      "El factorial de 10 és  3628800\n",
      "El factorial de 11 és  39916800\n",
      "El factorial de 12 és  479001600\n",
      "El factorial de 13 és  6227020800\n",
      "El factorial de 14 és  87178291200\n",
      "El factorial de 15 és  1307674368000\n",
      "El factorial de 16 és  20922789888000\n",
      "El factorial de 17 és  355687428096000\n",
      "El factorial de 18 és  6402373705728000\n",
      "El factorial de 19 és  121645100408832000\n",
      "El factorial de 20 és  2432902008176640000\n",
      "El factorial de 21 és  51090942171709440000\n",
      "El factorial de 22 és  1124000727777607680000\n",
      "El factorial de 23 és  25852016738884976640000\n",
      "El factorial de 24 és  620448401733239439360000\n",
      "El factorial de 25 és  15511210043330985984000000\n",
      "El factorial de 26 és més gran que 999999999999999999999999\n"
     ]
    }
   ],
   "source": [
    "# Test de la funció\n",
    "\n",
    "factmenor()"
   ]
  },
  {
   "cell_type": "markdown",
   "metadata": {},
   "source": [
    "## Exercici 8\n",
    "\n",
    "+ Fes una funció, ``suma``, que sumi tots els nombres naturals menors que 10000 i que siguin múltiples de 3 i de 7."
   ]
  },
  {
   "cell_type": "code",
   "execution_count": 35,
   "metadata": {
    "collapsed": false
   },
   "outputs": [],
   "source": [
    "# Substitueix la comanda pass per la teva solució\n",
    "def suma():\n",
    "    sumar = 0 # sumar és el banc, on s'acumulen els multiples de 3 i 7\n",
    "    for i in range (0,10000): # Fem un bucle de 10000 cops\n",
    "        if i % 3 == 0 and i % 7 == 0:  # Si la i del bucle és múltiple de (3) o (7) el seu residu de fer i/3 || i/7 és 0.\n",
    "            sumar += i # És el mateix que fer sumar = sumar + i\n",
    "    print \"La suma de tots els nombres naturals menors que 10000 multiples de 3 i 7 és:\",sumar"
   ]
  },
  {
   "cell_type": "code",
   "execution_count": 36,
   "metadata": {
    "collapsed": false
   },
   "outputs": [
    {
     "name": "stdout",
     "output_type": "stream",
     "text": [
      "La suma de tots els nombres naturals menors que 10000 multiples de 3 i 7 és: 2384046\n"
     ]
    }
   ],
   "source": [
    "# Test de la funció\n",
    "\n",
    "suma()"
   ]
  },
  {
   "cell_type": "markdown",
   "metadata": {},
   "source": [
    "## Exercici 9\n",
    "\n",
    "+ Escriu una funció, ``divisible``, que calculi quin és el nombre natural més petit que és divisible per 3,4,5,6,7,8,9,10 i 11."
   ]
  },
  {
   "cell_type": "code",
   "execution_count": 20,
   "metadata": {
    "collapsed": false
   },
   "outputs": [],
   "source": [
    "# Substitueix la comanda pass per la teva solució\n",
    "\n",
    "def divisible():\n",
    "    x = 1\n",
    "    y = 1\n",
    "    while y%3 == 0 and y%4 == 0 and y%5 == 0 and y%6 == 0 and y%7 == 0 and y%8 == 0 and y%9 == 0 and y%10 == 0 and y%11 == 0:\n",
    "            x = x + 1 \n",
    "            y = y + x\n",
    "    print \"El nombre natural més petit que és divisible per 3,4,5,6,7,8,9,10 i 11 és:\",y"
   ]
  },
  {
   "cell_type": "code",
   "execution_count": 21,
   "metadata": {
    "collapsed": false
   },
   "outputs": [
    {
     "name": "stdout",
     "output_type": "stream",
     "text": [
      "El nombre natural més petit que és divisible per 3,4,5,6,7,8,9,10 i 11 és: 1\n"
     ]
    }
   ],
   "source": [
    "# Test de la funció\n",
    "\n",
    "divisible()"
   ]
  }
 ],
 "metadata": {
  "anaconda-cloud": {},
  "kernelspec": {
   "display_name": "Python [Root]",
   "language": "python",
   "name": "Python [Root]"
  },
  "language_info": {
   "codemirror_mode": {
    "name": "ipython",
    "version": 2
   },
   "file_extension": ".py",
   "mimetype": "text/x-python",
   "name": "python",
   "nbconvert_exporter": "python",
   "pygments_lexer": "ipython2",
   "version": "2.7.12"
  }
 },
 "nbformat": 4,
 "nbformat_minor": 0
}
